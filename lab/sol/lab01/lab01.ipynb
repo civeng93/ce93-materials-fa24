{
 "cells": [
  {
   "cell_type": "code",
   "execution_count": 1,
   "metadata": {
    "deletable": false,
    "editable": false
   },
   "outputs": [],
   "source": [
    "# Initialize Otter\n",
    "import otter\n",
    "grader = otter.Notebook(\"lab01.ipynb\")"
   ]
  },
  {
   "cell_type": "markdown",
   "metadata": {},
   "source": [
    "# CE 93: Lab Assignment 01\n",
    "\n",
    "You must submit the lab to Gradescope by the due date. You will submit the zip file produced by running the final cell of the assignment.\n",
    "\n",
    "## About this Lab\n",
    "The objective of this assignment is to revisit fundamental Python commands. As outlined in the syllabus, Data 8 is a prerequisite for CE 93. More specifically, basic programming experience is required to succeed in this course. While CE 93 will extend your Python proficiency, we won't cover the basics, assuming that students already possess this foundational knowledge. If you find it challenging to provide correct answers to more than 70% of the lab questions, it is advisable to wait until you have completed Data 8 (or an equivalent course) before enrolling in CE 93.\n",
    "\n",
    "## Instructions \n",
    "\n",
    "**Watch [this tutorial](https://drive.google.com/file/d/1KG5EHGwxaDVuRUabKuEhy6dd_aA4G6uT/view?usp=drive_link) before you start the assignment. This step by step tutorial will show you how to work on the lab assignment and correctly submit your work to Gradescope.**\n",
    "\n",
    "**Run the first cell, Initialize Otter**, to import the autograder and submission exporter.\n",
    "\n",
    "Throughout the assignment, replace `...` with your answers. We use `...` as a placeholder and theses should be deleted and replaced with your answers.\n",
    "\n",
    "Any part listed as a \"<font color='red'>**Question**</font>\" should be answered to receive credit.\n",
    "\n",
    "**Please save your work after every question!**\n",
    "\n",
    "To read the documentation on a Python function, you can type `help()` and add the function name between parentheses.\n",
    "\n",
    "**Run the cell below**, to import the required modules."
   ]
  },
  {
   "cell_type": "code",
   "execution_count": 2,
   "metadata": {
    "tags": []
   },
   "outputs": [],
   "source": [
    "# Please run this cell, and do not modify the contents\n",
    "import math\n",
    "import numpy as np\n",
    "import scipy\n",
    "import pandas as pd\n",
    "import statistics as stats\n",
    "import cmath\n",
    "import re\n",
    "import matplotlib.pyplot as plt\n",
    "import matplotlib.image as mpimg\n",
    "import hashlib\n",
    "import ipywidgets as widgets\n",
    "from ipywidgets import FileUpload\n",
    "from IPython.display import display\n",
    "from PIL import Image\n",
    "import os\n",
    "import resources\n",
    "\n",
    "def get_hash(num):\n",
    "    \"\"\"Helper function for assessing correctness\"\"\"\n",
    "    return hashlib.md5(str(num).encode()).hexdigest()"
   ]
  },
  {
   "cell_type": "markdown",
   "metadata": {},
   "source": [
    "### Python Basics"
   ]
  },
  {
   "cell_type": "markdown",
   "metadata": {
    "deletable": false,
    "editable": false
   },
   "source": [
    "<font color='red'>**Question 1.0.**</font> What does a hashtag (`#`) represent in Python syntax? Assign your answer to the variable `q1_0` as a string. (0.25 pts)\n",
    "\n",
    "A. Assignment \\\n",
    "B. Function \\\n",
    "C. Comment \\\n",
    "D. Selection \\\n",
    "E. Iteration\n",
    "\n",
    "Answer in the next cell. Your answer should be a string, e.g., `\"A\"`, `\"B\"`, etc. \\\n",
    "For example, if you selected `A. Assignment`, then simply replace `...` in the cell below by `\"A\"`.\n",
    "Remember to put quotes around your answer choice."
   ]
  },
  {
   "cell_type": "code",
   "execution_count": 3,
   "metadata": {
    "tags": [
     "otter_assign_solution_cell"
    ]
   },
   "outputs": [
    {
     "data": {
      "text/plain": [
       "'C'"
      ]
     },
     "execution_count": 3,
     "metadata": {},
     "output_type": "execute_result"
    }
   ],
   "source": [
    "# ANSWER CELL\n",
    "q1_0 = \"C\" # SOLUTION\n",
    "q1_0"
   ]
  },
  {
   "cell_type": "code",
   "execution_count": 4,
   "metadata": {
    "deletable": false,
    "editable": false
   },
   "outputs": [
    {
     "data": {
      "text/html": [
       "<p><strong><pre style='display: inline;'>q1.0</pre></strong> passed! 💯</p><p><strong><pre style='display: inline;'>q1.0 - 1</pre> message:</strong> Correct answer format.</p>"
      ],
      "text/plain": [
       "q1.0 results: All test cases passed!\n",
       "q1.0 - 1 message: Correct answer format."
      ]
     },
     "execution_count": 4,
     "metadata": {},
     "output_type": "execute_result"
    }
   ],
   "source": [
    "grader.check(\"q1.0\")"
   ]
  },
  {
   "cell_type": "markdown",
   "metadata": {},
   "source": [
    "### Mathematical Operations\n",
    "\n",
    "An arithmetic **operation** is either addition, subtraction, multiplication, division, or exponentiation (i.e., power). An arithmetic **operator** is a symbol that Python has reserved to perform one of the aforementioned operations.\n",
    "\n",
    "| Operation       | Mathematical Notation | Python Operator | Python Example | Output    |\n",
    "|:----------------|:---------------------:|:---------------:|:---------------|:----------|\n",
    "| Addition        | $a+b$                 | `+`             | `3 + 1`        | `5`       |\n",
    "| Subtraction     | $a-b$                 | `-`             | `3 - 2`        | `1`       |\n",
    "| Multiplication  | $a\\times b$           | `*`             | `3 * 2`        | `6`       |\n",
    "| Division        | $\\dfrac{a}{b}$        | `/`             | `3 / 2`        | `1.5`     |\n",
    "| Exponentiation  | $a^b$                 | `**`            | `3 ** 2`       | `9`       |\n",
    "\n",
    "Python obeys the same order of operations that you learned in school: powers are executed before multiplication and division, which are executed before addition and subtraction. Parentheses, `()`, can also be used in Python to group together smaller expressions and supersede the standard order of operations. The order in which Python executes these operations is shown in the table below.\n",
    "\n",
    "| Precedence      | Operation                      | Rule                                       | \n",
    "|:----------------|:------------------------------ | :----------------------------------------- |\n",
    "| First (Highest) | Parentheses: `( )`             | Evaluated starting with the innermost pair |\n",
    "| Second          | Exponentiation: `**`           | Evaluated from left to right               | \n",
    "| Third           | Unary positive, negative: `+x`, `-x` | Evaluated from left to right         |\n",
    "| Fourth          | Multiplication, division: `*`, `/`   | Evaluated from left to right         |\n",
    "| Fifth           | Addition, subtraction: `+`, `-`      | Evaluated from left to right         |"
   ]
  },
  {
   "cell_type": "markdown",
   "metadata": {
    "deletable": false,
    "editable": false
   },
   "source": [
    "<font color='red'>**Question 2.0.**</font> What is the result of this Python expression? Feel free to run it to check your answer, but try to think it through first. Assign your answer to the variable `q2_0` as a string. (0.25 pts)\n",
    "\n",
    "```python\n",
    "2 * 3 ** 2\n",
    "```\n",
    "\n",
    "A. 9 \\\n",
    "B. 12 \\\n",
    "C. 18 \\\n",
    "D. 36 \\\n",
    "E. `Error`\n",
    "\n",
    "Answer in the next cell. Your answer should be a string, e.g., `\"A\"`, `\"B\"`, etc. \\\n",
    "Assign your answer to the given variable.\n",
    "Remember to put quotes around your answer choice."
   ]
  },
  {
   "cell_type": "code",
   "execution_count": 5,
   "metadata": {
    "tags": [
     "otter_assign_solution_cell"
    ]
   },
   "outputs": [
    {
     "data": {
      "text/plain": [
       "'C'"
      ]
     },
     "execution_count": 5,
     "metadata": {},
     "output_type": "execute_result"
    }
   ],
   "source": [
    "# ANSWER CELL\n",
    "q2_0 = \"C\" # SOLUTION\n",
    "q2_0"
   ]
  },
  {
   "cell_type": "code",
   "execution_count": 6,
   "metadata": {
    "deletable": false,
    "editable": false
   },
   "outputs": [
    {
     "data": {
      "text/html": [
       "<p><strong><pre style='display: inline;'>q2.0</pre></strong> passed! ✨</p><p><strong><pre style='display: inline;'>q2.0 - 1</pre> message:</strong> Correct answer format.</p>"
      ],
      "text/plain": [
       "q2.0 results: All test cases passed!\n",
       "q2.0 - 1 message: Correct answer format."
      ]
     },
     "execution_count": 6,
     "metadata": {},
     "output_type": "execute_result"
    }
   ],
   "source": [
    "grader.check(\"q2.0\")"
   ]
  },
  {
   "cell_type": "markdown",
   "metadata": {
    "deletable": false,
    "editable": false
   },
   "source": [
    "<font color='red'>**Question 2.1.**</font> Construct a one-line Python expression that computes the value of the following mathematical expression. Assign the expression to the variable `q2_1`. Your answer should be a mathematical expression, not the value of the expression. (0.5 pts)\n",
    "\n",
    "$$3+\\frac{1}{3}$$"
   ]
  },
  {
   "cell_type": "code",
   "execution_count": 7,
   "metadata": {
    "tags": [
     "otter_assign_solution_cell"
    ]
   },
   "outputs": [
    {
     "data": {
      "text/plain": [
       "3.3333333333333335"
      ]
     },
     "execution_count": 7,
     "metadata": {},
     "output_type": "execute_result"
    }
   ],
   "source": [
    "# ANSWER CELL\n",
    "q2_1 = 3+1/3 # SOLUTION\n",
    "q2_1"
   ]
  },
  {
   "cell_type": "code",
   "execution_count": 8,
   "metadata": {
    "deletable": false,
    "editable": false
   },
   "outputs": [
    {
     "data": {
      "text/html": [
       "<p><strong><pre style='display: inline;'>q2.1</pre></strong> passed! 🌟</p>"
      ],
      "text/plain": [
       "q2.1 results: All test cases passed!"
      ]
     },
     "execution_count": 8,
     "metadata": {},
     "output_type": "execute_result"
    }
   ],
   "source": [
    "grader.check(\"q2.1\")"
   ]
  },
  {
   "cell_type": "markdown",
   "metadata": {},
   "source": [
    "Python has many basic trigonometric, logarithmic, and other arithmetic functions like `sin()`, `cos()`, `tan()`, `asin()`, `acos()`, `atan()`, `exp()`, `log()`, `log10()` and `sqrt()` stored in a module called **`math`**. You can read about all the functions provided by the **`math`** module [here](https://docs.python.org/3/library/math.html).\n",
    "\n",
    "The way we use these mathematical functions (and in general, any function from a module) is `module.function(x)`, where:\n",
    "* `module` is the module's name or its given shortened name; e.g., `math`\n",
    "* `.function` is the function available within that module that you want to use; e.g., `.log10`\n",
    "* `(x)` includes inside the parentheses the input(s) that your are trying to evaluate using the function; e.g., `(100)`.\n",
    "\n",
    "**Example:** \n",
    "\n",
    "```python\n",
    ">>> math.log10(100)\n",
    "2.0\n",
    "```"
   ]
  },
  {
   "cell_type": "markdown",
   "metadata": {
    "deletable": false,
    "editable": false
   },
   "source": [
    "<font color='red'>**Question 2.2.**</font>  Define variables $x=2$ and $y=5$. Then, construct a one-line Python expression that computes the value of the following mathematical expression. Assign the expression to the variable `q2_2`. (0.5 pts)\n",
    "\n",
    "$$e^{x^y}$$\n",
    "\n",
    "Your Python expression should give appropriate values regardless of the values of $x$ and $y$ (i.e. you should use the variable names instead of their numerical values).\n",
    "\n",
    "*Hint:* Take a look at `math`'s exponential function documentation [here](https://docs.python.org/3/library/math.html#power-and-logarithmic-functions)."
   ]
  },
  {
   "cell_type": "code",
   "execution_count": 9,
   "metadata": {
    "tags": [
     "otter_assign_solution_cell"
    ]
   },
   "outputs": [
    {
     "data": {
      "text/plain": [
       "78962960182680.69"
      ]
     },
     "execution_count": 9,
     "metadata": {},
     "output_type": "execute_result"
    }
   ],
   "source": [
    "# ANSWER CELL\n",
    "x = 2 # SOLUTION\n",
    "y = 5 # SOLUTION\n",
    "q2_2 = math.exp(x**y) # SOLUTION\n",
    "q2_2"
   ]
  },
  {
   "cell_type": "code",
   "execution_count": 10,
   "metadata": {
    "deletable": false,
    "editable": false
   },
   "outputs": [
    {
     "data": {
      "text/html": [
       "<p><strong><pre style='display: inline;'>q2.2</pre></strong> passed! ✨</p>"
      ],
      "text/plain": [
       "q2.2 results: All test cases passed!"
      ]
     },
     "execution_count": 10,
     "metadata": {},
     "output_type": "execute_result"
    }
   ],
   "source": [
    "grader.check(\"q2.2\")"
   ]
  },
  {
   "cell_type": "markdown",
   "metadata": {},
   "source": [
    "### Variables and Assignment\n",
    "\n",
    "**Variables** are used to store values in Python using an *assignment* statement. In an *assignment* statement, a name is followed by `=`, which is followed by any expression. That's why <code>=</code> is referred to as the assignment operator.\n",
    "\n",
    "**Example:**\n",
    "\n",
    "```python\n",
    "a = 5\n",
    "b = a\n",
    "```\n",
    "\n",
    "The value of the expression to the right of `=` is *assigned* to the variable name to the left of `=`. So, in the example above, the value 5 is assigned to the variable `a`. After executing this line, the variable `a` behaves like the value 5 in subsequent calculations, until the variable is changed or deleted.\n",
    "\n",
    "When a variable is assigned, it has no memory of how it was assigned. We assigned variable <code>b = a</code>. However, changing the value of <code>a</code> will not automatically change the value of <code>b</code>. To change the value of <code>b</code>, you have to **reassign it**.\n",
    "\n",
    "Note that one way to display values in Python is using the `print()` function, which takes as input some expression and prints its value."
   ]
  },
  {
   "cell_type": "markdown",
   "metadata": {
    "deletable": false,
    "editable": false
   },
   "source": [
    "<font color='red'>**Question 3.0.**</font> What will be displayed after running this Python code? Feel free to run it to check your answer, but try to think it through first. Assign your answer to the variable `q3_0` as a string. (0.25 pts)\n",
    "\n",
    "```python\n",
    "a = [1, 2, 3]\n",
    "b = a\n",
    "a = [4, 5, 6]\n",
    "print(b)\n",
    "```\n",
    "\n",
    "A. `[1, 2, 3]` \\\n",
    "B. `b` \\\n",
    "C. `[4, 5, 6]` \\\n",
    "D. `a` \\\n",
    "E. No output\n",
    "\n",
    "Answer in the next cell. Your answer should be a string, e.g., `\"A\"`, `\"B\"`, etc. \\\n",
    "Assign your answer to the given variable.\n",
    "Remember to put quotes around your answer choice."
   ]
  },
  {
   "cell_type": "code",
   "execution_count": 11,
   "metadata": {
    "scrolled": true,
    "tags": [
     "otter_assign_solution_cell"
    ]
   },
   "outputs": [
    {
     "data": {
      "text/plain": [
       "'A'"
      ]
     },
     "execution_count": 11,
     "metadata": {},
     "output_type": "execute_result"
    }
   ],
   "source": [
    "# ANSWER CELL\n",
    "q3_0 = \"A\" # SOLUTION\n",
    "q3_0"
   ]
  },
  {
   "cell_type": "code",
   "execution_count": 12,
   "metadata": {
    "deletable": false,
    "editable": false
   },
   "outputs": [
    {
     "data": {
      "text/html": [
       "<p><strong><pre style='display: inline;'>q3.0</pre></strong> passed! ✨</p><p><strong><pre style='display: inline;'>q3.0 - 1</pre> message:</strong> Correct answer format.</p>"
      ],
      "text/plain": [
       "q3.0 results: All test cases passed!\n",
       "q3.0 - 1 message: Correct answer format."
      ]
     },
     "execution_count": 12,
     "metadata": {},
     "output_type": "execute_result"
    }
   ],
   "source": [
    "grader.check(\"q3.0\")"
   ]
  },
  {
   "cell_type": "markdown",
   "metadata": {
    "deletable": false,
    "editable": false
   },
   "source": [
    "<font color='red'>**Question 3.1.**</font> What will be displayed after running this Python code? Feel free to run it to check your answer, but try to think it through first. Assign your answer to the variable `q3_1` as a string. (0.25 pts)\n",
    "\n",
    "```python\n",
    "a = 10\n",
    "b = a\n",
    "a = 15\n",
    "```\n",
    "\n",
    "A. `10` \\\n",
    "B. `15` \\\n",
    "C. `b` \\\n",
    "D. `a` \\\n",
    "E. No output\n",
    "\n",
    "Answer in the next cell. Your answer should be a string, e.g., `\"A\"`, `\"B\"`, etc. \\\n",
    "Assign your answer to the given variable.\n",
    "Remember to put quotes around your answer choice."
   ]
  },
  {
   "cell_type": "code",
   "execution_count": 13,
   "metadata": {
    "scrolled": true,
    "tags": [
     "otter_assign_solution_cell"
    ]
   },
   "outputs": [
    {
     "data": {
      "text/plain": [
       "'E'"
      ]
     },
     "execution_count": 13,
     "metadata": {},
     "output_type": "execute_result"
    }
   ],
   "source": [
    "# ANSWER CELL\n",
    "q3_1 = \"E\" # SOLUTION\n",
    "q3_1"
   ]
  },
  {
   "cell_type": "code",
   "execution_count": 14,
   "metadata": {
    "deletable": false,
    "editable": false
   },
   "outputs": [
    {
     "data": {
      "text/html": [
       "<p><strong><pre style='display: inline;'>q3.1</pre></strong> passed! 🎉</p><p><strong><pre style='display: inline;'>q3.1 - 1</pre> message:</strong> Correct answer format.</p>"
      ],
      "text/plain": [
       "q3.1 results: All test cases passed!\n",
       "q3.1 - 1 message: Correct answer format."
      ]
     },
     "execution_count": 14,
     "metadata": {},
     "output_type": "execute_result"
    }
   ],
   "source": [
    "grader.check(\"q3.1\")"
   ]
  },
  {
   "cell_type": "markdown",
   "metadata": {},
   "source": [
    "The statement <code>a = 5</code> is not asserting that <code>a</code> is already equal to 5, as we might expect in mathematical notation. Rather, this line of code defines the variable <code>a</code> to hereafter have the value 5.\n",
    "\n",
    "Although it is perfectly valid to say $5 = a$ in mathematics, `5 = a` will raise an error in Python.\n",
    "\n",
    "When trying to run `5 = a`, you are telling Python to define a variable named `5` and assign it the value of the variable `a`. However, `5` is not a valid variable name. That's why Python raises a `SyntaxError`. There are some restrictions on the names variables can take in Python, which are listed hereafter:\n",
    "* Variable names must start with a letter or underscore `_` but cannot start with a number\n",
    "* Variables can only contain alphanumeric characters (letters and numbers) as well as underscores `_` \n",
    "* Numbers are allowed after the first character of the variable name\n",
    "* No spaces or math symbols/punctuation within a variable name are permitted\n",
    "* Variable names are case-sensitive (e.g., `a` and `A` will be considered different variables)\n",
    "\n",
    "So, variable names must start with a letter, but can contain both letters and numbers after the first character. A name cannot contain a space; instead, it is common to use an underscore `_` character to replace each space. For example, `1dice_roll = 5` will raise a `SyntaxError` because a name cannot start with a number. Instead, you can write `dice_roll_1 = 5`, and then `dice_roll_1` will be assigned the value $5$."
   ]
  },
  {
   "cell_type": "markdown",
   "metadata": {
    "deletable": false,
    "editable": false
   },
   "source": [
    "<font color='red'>**Question 3.2.**</font>  What is the result of this Python expression? Feel free to run it to check your answer, but try to think it through first. Assign your answer to the variable `q3_2` as a string. (0.25 pts)\n",
    "\n",
    "```python\n",
    "2 = 3\n",
    "```\n",
    "\n",
    "A. `True` \\\n",
    "B. `False` \\\n",
    "C. `NaN` \\\n",
    "D. `NA` \\\n",
    "E. `SyntaxError`\n",
    "\n",
    "Answer in the next cell. Your answer should be a string, e.g., `\"A\"`, `\"B\"`, etc. \\\n",
    "Assign your answer to the given variable.\n",
    "Remember to put quotes around your answer choice."
   ]
  },
  {
   "cell_type": "code",
   "execution_count": 15,
   "metadata": {
    "tags": [
     "otter_assign_solution_cell"
    ]
   },
   "outputs": [
    {
     "data": {
      "text/plain": [
       "'E'"
      ]
     },
     "execution_count": 15,
     "metadata": {},
     "output_type": "execute_result"
    }
   ],
   "source": [
    "# ANSWER CELL\n",
    "q3_2 = \"E\" # SOLUTION\n",
    "q3_2"
   ]
  },
  {
   "cell_type": "code",
   "execution_count": 16,
   "metadata": {
    "deletable": false,
    "editable": false
   },
   "outputs": [
    {
     "data": {
      "text/html": [
       "<p><strong><pre style='display: inline;'>q3.2</pre></strong> passed! 🚀</p><p><strong><pre style='display: inline;'>q3.2 - 1</pre> message:</strong> Correct answer format.</p>"
      ],
      "text/plain": [
       "q3.2 results: All test cases passed!\n",
       "q3.2 - 1 message: Correct answer format."
      ]
     },
     "execution_count": 16,
     "metadata": {},
     "output_type": "execute_result"
    }
   ],
   "source": [
    "grader.check(\"q3.2\")"
   ]
  },
  {
   "cell_type": "markdown",
   "metadata": {
    "deletable": false,
    "editable": false
   },
   "source": [
    "<font color='red'>**Question 3.3.**</font> Which of the following is (are) NOT valid variable name(s)? Assign ALL that apply to the variable `q3_3`. (0.5 pts)\n",
    "\n",
    "A. `Data` \\\n",
    "B. `Data1` \\\n",
    "C. `1Data` \\\n",
    "D. `^_^` \\\n",
    "E. `@potus`\\\n",
    "F. `Data 1`\\\n",
    "G. `Data_1`\n",
    "\n",
    "Answer in the next cell. Add each selected choice as a string and separate each two answer choices by a comma. For example, if you want to select `\"A\"` and `\"B\"`, your answer should be `\"A\", \"B\"`.\\\n",
    "Assign your answer to the given variable.\n",
    "Remember to put quotes around each answer choice."
   ]
  },
  {
   "cell_type": "code",
   "execution_count": 17,
   "metadata": {
    "tags": [
     "otter_assign_solution_cell"
    ]
   },
   "outputs": [
    {
     "data": {
      "text/plain": [
       "('C', 'D', 'E', 'F')"
      ]
     },
     "execution_count": 17,
     "metadata": {},
     "output_type": "execute_result"
    }
   ],
   "source": [
    "# ANSWER CELL\n",
    "q3_3 = \"C\", \"D\", \"E\", \"F\" # SOLUTION\n",
    "q3_3"
   ]
  },
  {
   "cell_type": "code",
   "execution_count": 18,
   "metadata": {
    "deletable": false,
    "editable": false
   },
   "outputs": [
    {
     "data": {
      "text/html": [
       "<p><strong><pre style='display: inline;'>q3.3</pre></strong> passed! 💯</p><p><strong><pre style='display: inline;'>q3.3 - 1</pre> message:</strong> Correct answer format.</p>"
      ],
      "text/plain": [
       "q3.3 results: All test cases passed!\n",
       "q3.3 - 1 message: Correct answer format."
      ]
     },
     "execution_count": 18,
     "metadata": {},
     "output_type": "execute_result"
    }
   ],
   "source": [
    "grader.check(\"q3.3\")"
   ]
  },
  {
   "cell_type": "markdown",
   "metadata": {},
   "source": [
    "### Logical Expressions and Operators\n",
    "\n",
    "**Logical expressions** are statements that can either be true or false. Logical expressions are used to pose questions to Python. For example, running `2 < 3` is equivalent to asking , \"*Is 2 less than 3?*\" Since this statement is true, Python will return the value `True`. Otherwise, if the statement is false, Python will return `False`. The returned value is a data type which is known as **boolean** (or `bool`), which has the built-in values `True` and `False`.\n",
    "\n",
    "Logical expressions can be applied on values, variables, or both. Python includes a variety of comparison operators (operators to perform comparisons). \n",
    "\n",
    "| Comparison         | Python Operator | True example | False Example |\n",
    "|:-------------------|:---------------:|:-------------|:--------------|\n",
    "| Less than          | `<`             | `2 < 3`      | `2 < 2`       |\n",
    "| Greater than       | `>`             | `3 > 2`      | `3 > 3`       |\n",
    "| Less than or equal | `<=`            | `2 <= 2`     | `3 <= 2`      |\n",
    "| Greater or equal   | `>=`            | `3 >= 3`     | `2 >= 3`      |\n",
    "| Equal              | `==`            | `3 == 3`     | `3 == 2`      |\n",
    "| Not equal          | `!=`            | `3 != 2`     | `2 != 2`      |"
   ]
  },
  {
   "cell_type": "markdown",
   "metadata": {
    "deletable": false,
    "editable": false
   },
   "source": [
    "<font color='red'>**Question 4.0.**</font> Recall that you have previously defined `x = 2`. What is the result of this Python expression? Feel free to run it to check your answer, but try to think it through first. Assign your answer to the variable `q4_0` as a string. (0.25 pts)\n",
    "\n",
    "```python\n",
    "x != 3\n",
    "```\n",
    "\n",
    "A. `True` \\\n",
    "B. `False` \\\n",
    "C. `NaN` \\\n",
    "D. `NA` \\\n",
    "E. `SyntaxError`\n",
    "\n",
    "Answer in the next cell. Your answer should be a string, e.g., `\"A\"`, `\"B\"`, etc. \\\n",
    "Assign your answer to the given variable.\n",
    "Remember to put quotes around your answer choice."
   ]
  },
  {
   "cell_type": "code",
   "execution_count": 19,
   "metadata": {
    "tags": [
     "otter_assign_solution_cell"
    ]
   },
   "outputs": [
    {
     "data": {
      "text/plain": [
       "'A'"
      ]
     },
     "execution_count": 19,
     "metadata": {},
     "output_type": "execute_result"
    }
   ],
   "source": [
    "# ANSWER CELL\n",
    "q4_0 = \"A\" # SOLUTION\n",
    "q4_0"
   ]
  },
  {
   "cell_type": "code",
   "execution_count": 20,
   "metadata": {
    "deletable": false,
    "editable": false
   },
   "outputs": [
    {
     "data": {
      "text/html": [
       "<p><strong><pre style='display: inline;'>q4.0</pre></strong> passed! 🎉</p><p><strong><pre style='display: inline;'>q4.0 - 1</pre> message:</strong> Correct answer format.</p>"
      ],
      "text/plain": [
       "q4.0 results: All test cases passed!\n",
       "q4.0 - 1 message: Correct answer format."
      ]
     },
     "execution_count": 20,
     "metadata": {},
     "output_type": "execute_result"
    }
   ],
   "source": [
    "grader.check(\"q4.0\")"
   ]
  },
  {
   "cell_type": "markdown",
   "metadata": {},
   "source": [
    "Two consecutive equal marks (`==`) are used to check whether two expressions have the same value. For example, if we define `dice_roll_1 = 5` and then run `dice_roll_1 == 5`, this will return `True` because we have assigned the value $5$ to `dice_roll_1`."
   ]
  },
  {
   "cell_type": "markdown",
   "metadata": {
    "deletable": false,
    "editable": false
   },
   "source": [
    "<font color='red'>**Question 4.1.**</font>  What is the result of this Python expression? Feel free to run it to check your answer, but try to think it through first. Assign your answer to the variable `q4_1` as a string. (0.25 pts)\n",
    "\n",
    "```python\n",
    "x == 3\n",
    "```\n",
    "\n",
    "A. `True` \\\n",
    "B. `False` \\\n",
    "C. `NaN` \\\n",
    "D. `NA` \\\n",
    "E. `SyntaxError`\n",
    "\n",
    "Answer in the next cell. Your answer should be a string, e.g., `\"A\"`, `\"B\"`, etc. \\\n",
    "Assign your answer to the given variable.\n",
    "Remember to put quotes around your answer choice."
   ]
  },
  {
   "cell_type": "code",
   "execution_count": 21,
   "metadata": {
    "tags": [
     "otter_assign_solution_cell"
    ]
   },
   "outputs": [
    {
     "data": {
      "text/plain": [
       "'B'"
      ]
     },
     "execution_count": 21,
     "metadata": {},
     "output_type": "execute_result"
    }
   ],
   "source": [
    "# ANSWER CELL\n",
    "q4_1 = \"B\" # SOLUTION\n",
    "q4_1"
   ]
  },
  {
   "cell_type": "code",
   "execution_count": 22,
   "metadata": {
    "deletable": false,
    "editable": false
   },
   "outputs": [
    {
     "data": {
      "text/html": [
       "<p><strong><pre style='display: inline;'>q4.1</pre></strong> passed! 🙌</p><p><strong><pre style='display: inline;'>q4.1 - 1</pre> message:</strong> Correct answer format.</p>"
      ],
      "text/plain": [
       "q4.1 results: All test cases passed!\n",
       "q4.1 - 1 message: Correct answer format."
      ]
     },
     "execution_count": 22,
     "metadata": {},
     "output_type": "execute_result"
    }
   ],
   "source": [
    "grader.check(\"q4.1\")"
   ]
  },
  {
   "cell_type": "markdown",
   "metadata": {},
   "source": [
    "In Python and many other programming languages, `True` is equivalent to 1 and `False` is equivalent to 0. So, you can perform arithmetic operations on `bool` data types. Because `True` is equal to 1 and `False` is equal to 0, adding logical expressions together is a quick way to count the number of `True` expressions out of many logical expressions."
   ]
  },
  {
   "cell_type": "markdown",
   "metadata": {
    "deletable": false,
    "editable": false
   },
   "source": [
    "<font color='red'>**Question 4.2.**</font> What is the result of this Python expression? Feel free to run it to check your answer, but try to think it through first. (0.5 pts)\n",
    "\n",
    "```python\n",
    "(5 > 4) + 2 * (3 != 10) - (7 < 10)\n",
    "```\n",
    "\n",
    "Assign your answer to the variable `q4_2` in the next cell. Do NOT put quotes around your answer. Your answer should be a numeric value."
   ]
  },
  {
   "cell_type": "code",
   "execution_count": 23,
   "metadata": {
    "tags": [
     "otter_assign_solution_cell"
    ]
   },
   "outputs": [
    {
     "data": {
      "text/plain": [
       "2"
      ]
     },
     "execution_count": 23,
     "metadata": {},
     "output_type": "execute_result"
    }
   ],
   "source": [
    "# ANSWER CELL\n",
    "q4_2 = 2 # SOLUTION\n",
    "q4_2"
   ]
  },
  {
   "cell_type": "code",
   "execution_count": 24,
   "metadata": {
    "deletable": false,
    "editable": false
   },
   "outputs": [
    {
     "data": {
      "text/html": [
       "<p><strong><pre style='display: inline;'>q4.2</pre></strong> passed! 🙌</p><p><strong><pre style='display: inline;'>q4.2 - 1</pre> message:</strong> Correct answer format.</p>"
      ],
      "text/plain": [
       "q4.2 results: All test cases passed!\n",
       "q4.2 - 1 message: Correct answer format."
      ]
     },
     "execution_count": 24,
     "metadata": {},
     "output_type": "execute_result"
    }
   ],
   "source": [
    "grader.check(\"q4.2\")"
   ]
  },
  {
   "cell_type": "markdown",
   "metadata": {},
   "source": [
    "In most of the previous examples, we did one comparison at a time. **Logical operators** allow us to combine together multiple comparisons. There are three common logical operators: AND, OR, NOT. Operator symbols vary with different programming languages. In Python they are `and`, `or`, and `not`.\n",
    "\n",
    "| Operator | Description | Examples |\n",
    "| :---:    | :---:       | :---:    | \n",
    "| `and`    | `True` if **all** expressions are `True` <br> `False` otherwise| `(5 > 4) and (5 > 3)`<br>`(5 > 4) and (5 < 3)`|\n",
    "| `or`     | `True` if **at least one** expression is `True` <br> `False` otherwise| `(5 > 4) or (5 < 3)`<br>`(5 < 4) or (5 < 3)`|\n",
    "| `not`    | Reverses the result, `True` if the expression is `False` <br> `False` if the expression is `True` |`not(5 < 4)`<br>`not(5 > 4)`| "
   ]
  },
  {
   "cell_type": "markdown",
   "metadata": {
    "deletable": false,
    "editable": false
   },
   "source": [
    "<font color='red'>**Question 4.3.**</font> What is the result of this Python expression? Feel free to run it to check your answer, but try to think it through first. Assign your answer to the variable `q4_3` as a string. (0.5 pts)\n",
    "\n",
    "```python\n",
    "(5 > 4 or 2 == 3)  and  (3 != 10 and 7 < 10)\n",
    "```\n",
    "\n",
    "A. `True` \\\n",
    "B. `False` \\\n",
    "C. `NaN` \\\n",
    "D. `NA` \\\n",
    "E. `SyntaxError`\n",
    "\n",
    "Answer in the next cell. Your answer should be a string, e.g., `\"A\"`, `\"B\"`, etc. \\\n",
    "Assign your answer to the given variable.\n",
    "Remember to put quotes around your answer choice."
   ]
  },
  {
   "cell_type": "code",
   "execution_count": 25,
   "metadata": {
    "tags": [
     "otter_assign_solution_cell"
    ]
   },
   "outputs": [
    {
     "data": {
      "text/plain": [
       "'A'"
      ]
     },
     "execution_count": 25,
     "metadata": {},
     "output_type": "execute_result"
    }
   ],
   "source": [
    "# ANSWER CELL\n",
    "q4_3 = \"A\" # SOLUTION\n",
    "q4_3"
   ]
  },
  {
   "cell_type": "code",
   "execution_count": 26,
   "metadata": {
    "deletable": false,
    "editable": false
   },
   "outputs": [
    {
     "data": {
      "text/html": [
       "<p><strong><pre style='display: inline;'>q4.3</pre></strong> passed! 🎉</p><p><strong><pre style='display: inline;'>q4.3 - 1</pre> message:</strong> Correct answer format.</p>"
      ],
      "text/plain": [
       "q4.3 results: All test cases passed!\n",
       "q4.3 - 1 message: Correct answer format."
      ]
     },
     "execution_count": 26,
     "metadata": {},
     "output_type": "execute_result"
    }
   ],
   "source": [
    "grader.check(\"q4.3\")"
   ]
  },
  {
   "cell_type": "markdown",
   "metadata": {},
   "source": [
    "### Strings\n",
    "\n",
    "A string is a sequence of characters, such as `\"Hello World\"`. Strings are surrounded by either single `' '` or double quotation marks `\" \"`. A string can include letters, digits, punctuation, spaces, and other valid symbols. They can represent anything from a single character to a word, a sentence, or even an entire book! Strings can also be assigned to variables.\n",
    "\n",
    "Numbers can also be expressed as strings. For example, `z = \"93\"` means that `z` is assigned the string 93 not the number 93.\n",
    "\n",
    "Strings can be concatenated (glued together) with the `+` operator. This allows you to combine multiple strings into a single string. So, if we define `z = '93'` and then run `\"Welcome \" + \"to \" + \"CIVENG\" + z`, this will return the string `\"Welcome to CIVENG93\"`. Notice how spaces were included after \"Welcome\" and after \"to\", but not after \"CIVENG\"."
   ]
  },
  {
   "cell_type": "markdown",
   "metadata": {
    "deletable": false,
    "editable": false
   },
   "source": [
    "<font color='red'>**Question 5.0.**</font> What is the result of this Python expression? Feel free to run it to check your answer, but try to think it through first. Assign your answer to the variable `q5_0` as a string. (0.5 pts)\n",
    "\n",
    "```python\n",
    "'2' + '222'\n",
    "```\n",
    "\n",
    "A. `2222` \\\n",
    "B. `224` \\\n",
    "C. `222` \\\n",
    "D. `'2222'` \\\n",
    "E. `'224'`\n",
    "\n",
    "Answer in the next cell. Your answer should be a string, e.g., `\"A\"`, `\"B\"`, etc. \\\n",
    "Assign your answer to the given variable.\n",
    "Remember to put quotes around your answer choice."
   ]
  },
  {
   "cell_type": "code",
   "execution_count": 27,
   "metadata": {
    "tags": [
     "otter_assign_solution_cell"
    ]
   },
   "outputs": [
    {
     "data": {
      "text/plain": [
       "'D'"
      ]
     },
     "execution_count": 27,
     "metadata": {},
     "output_type": "execute_result"
    }
   ],
   "source": [
    "# ANSWER CELL\n",
    "q5_0 = \"D\" # SOLUTION\n",
    "q5_0"
   ]
  },
  {
   "cell_type": "code",
   "execution_count": 28,
   "metadata": {
    "deletable": false,
    "editable": false
   },
   "outputs": [
    {
     "data": {
      "text/html": [
       "<p><strong><pre style='display: inline;'>q5.0</pre></strong> passed! ✨</p><p><strong><pre style='display: inline;'>q5.0 - 1</pre> message:</strong> Correct answer format.</p>"
      ],
      "text/plain": [
       "q5.0 results: All test cases passed!\n",
       "q5.0 - 1 message: Correct answer format."
      ]
     },
     "execution_count": 28,
     "metadata": {},
     "output_type": "execute_result"
    }
   ],
   "source": [
    "grader.check(\"q5.0\")"
   ]
  },
  {
   "cell_type": "markdown",
   "metadata": {},
   "source": [
    "In Python, if you try to concatenate a string with a numeric value, you will get a `TypeError`.\n",
    "\n",
    "```python\n",
    ">>> course_code = 'CE'\n",
    ">>> course_number = 93\n",
    ">>> course_code + course_number\n",
    "```\n",
    "```\n",
    "---------------------------------------------------------------------------\n",
    "TypeError                                 Traceback (most recent call last)\n",
    "\n",
    "TypeError: can only concatenate str (not \"int\") to str\n",
    "```\n",
    "\n",
    "The correct way to do it is to convert the numeric value to string first, and then concatenate them. This can be achieved using the built-in function `str()`. For example `str(1)` will convert the number 1, to the string '1'. This is particularly useful when you have calculated a numeric variable and want to print it out with a string. In this case, you can convert the numeric variable to a string and then concatenate it with the string you are trying to print out.\n",
    "\n",
    "```python\n",
    ">>> course_code = 'CE'\n",
    ">>> course_number = 93\n",
    ">>> course_code + str(course_number)\n",
    "'CE93'\n",
    "```\n",
    "\n",
    "A more elegant way to combine numeric data with strings is known as formatted strings. Prefix the string with the letter `f` and then any variables, which could be strings, numeric, or other are included between `{ }`.\n",
    "\n",
    "```python\n",
    ">>> course_code = 'CE'\n",
    ">>> course_number = 93\n",
    ">>> f'Welcome to {course_code}{course_number}!'\n",
    "'Welcome to CE93!'\n",
    "```"
   ]
  },
  {
   "cell_type": "markdown",
   "metadata": {
    "deletable": false,
    "editable": false
   },
   "source": [
    "<font color='red'>**Question 5.1.**</font> Consider the Python code below. Which of the options below could replace `...` to get the following output: `'The average rainfall is 0.925 inch'`? Assign ALL that apply to the variable `q5_1`. (0.5 pts)\n",
    "\n",
    "```python\n",
    "rain_day1 = 1.1\n",
    "rain_day2 = 0.75\n",
    "...\n",
    "```\n",
    "\n",
    "A. `'The average rainfall is ' + str((rain_day1 + rain_day2) / 2) + ' inch'` \\\n",
    "B. `'The average rainfall is ' + (rain_day1 + rain_day2) / 2 + ' inch'` \\\n",
    "C. `'The average rainfall is {(rain_day1 + rain_day2) / 2} inch'` \\\n",
    "D. `f'The average rainfall is {(rain_day1 + rain_day2) / 2} inch'` \\\n",
    "E. `f'The average rainfall is (rain_day1 + rain_day2) / 2 inch'`\n",
    "\n",
    "Answer in the next cell. Add each selected choice as a string and separate each two answer choices by a comma. For example, if you want to select `\"A\"` and `\"B\"`, your answer should be `\"A\", \"B\"`.\n",
    "Assign your answer to the given variable. Remember to put quotes around each answer choice."
   ]
  },
  {
   "cell_type": "code",
   "execution_count": 29,
   "metadata": {
    "tags": [
     "otter_assign_solution_cell"
    ]
   },
   "outputs": [
    {
     "data": {
      "text/plain": [
       "('A', 'D')"
      ]
     },
     "execution_count": 29,
     "metadata": {},
     "output_type": "execute_result"
    }
   ],
   "source": [
    "# ANSWER CELL\n",
    "q5_1 = \"A\", \"D\" # SOLUTION\n",
    "q5_1"
   ]
  },
  {
   "cell_type": "code",
   "execution_count": 30,
   "metadata": {
    "deletable": false,
    "editable": false
   },
   "outputs": [
    {
     "data": {
      "text/html": [
       "<p><strong><pre style='display: inline;'>q5.1</pre></strong> passed! 🎉</p><p><strong><pre style='display: inline;'>q5.1 - 1</pre> message:</strong> Correct answer format.</p>"
      ],
      "text/plain": [
       "q5.1 results: All test cases passed!\n",
       "q5.1 - 1 message: Correct answer format."
      ]
     },
     "execution_count": 30,
     "metadata": {},
     "output_type": "execute_result"
    }
   ],
   "source": [
    "grader.check(\"q5.1\")"
   ]
  },
  {
   "cell_type": "markdown",
   "metadata": {},
   "source": [
    "### Lists and NumPy Arrays\n",
    "\n",
    "A `list` is a more versatile data structure that is a collection of one or more items. Lists can hold various data types or a combination of different data types, such as strings and numeric data. Items in a list are enclosed within square brackets `[]` and separated by commas `,`.\n",
    "\n",
    "**Examples:**\n",
    "\n",
    "```python\n",
    ">>> numeric_list = [1, 2, 3]\n",
    ">>> numeric_list\n",
    "[1, 2, 3]\n",
    "\n",
    ">>> text_list = ['Welcome', 'to', 'CE93!']\n",
    ">>> text_list\n",
    "['Welcome', 'to', 'CE93!']\n",
    "\n",
    ">>> mixed_list = ['Welcome', 'to', 'CE', 93, '!']\n",
    ">>> mixed_list\n",
    "['Welcome', 'to', 'CE', 93, '!']\n",
    "```\n",
    "Lists are fundamental in Python and serve as a powerful tool for storing and manipulating collections of data.\n",
    "\n",
    "We can use indexing to access an element from a list. To access an element from a list, we use a pair of square brackets. Indexing in Python starts at 0, which means that the first element has an index of 0, the second element has an index of 1, and so on.\n",
    "\n",
    "```python\n",
    ">>> numeric_list = [12, 52, 32]\n",
    ">>> numeric_list[0]\n",
    "12\n",
    "```\n",
    "\n",
    "You can also use negative indexes. Negative indexes simply means counting from the end of the list. So, -1 is the index of the last element, -2 is the index of the second-to-last element, and so on.\n",
    "\n",
    "```python\n",
    ">>> numeric_list = [12, 52, 32]\n",
    ">>> numeric_list[-1]\n",
    "32\n",
    "```"
   ]
  },
  {
   "cell_type": "markdown",
   "metadata": {
    "deletable": false,
    "editable": false
   },
   "source": [
    "<font color='red'>**Question 6.0.**</font> What will be displayed after running this Python code? Feel free to run it to check your answer, but try to think it through first. (0.5 pts)\n",
    "\n",
    "```python\n",
    "a = [383, 165, 273, 112, 937, 11, 64, 112, 455]\n",
    "print(a[1])\n",
    "```\n",
    "\n",
    "Assign your answer to the variable `q6_0` in the next cell. Do NOT put quotes around your answer. Your answer should be a numeric value."
   ]
  },
  {
   "cell_type": "code",
   "execution_count": 31,
   "metadata": {
    "tags": [
     "otter_assign_solution_cell"
    ]
   },
   "outputs": [
    {
     "data": {
      "text/plain": [
       "165"
      ]
     },
     "execution_count": 31,
     "metadata": {},
     "output_type": "execute_result"
    }
   ],
   "source": [
    "# ANSWER CELL\n",
    "q6_0 = 165 # SOLUTION\n",
    "q6_0"
   ]
  },
  {
   "cell_type": "code",
   "execution_count": 32,
   "metadata": {
    "deletable": false,
    "editable": false
   },
   "outputs": [
    {
     "data": {
      "text/html": [
       "<p><strong><pre style='display: inline;'>q6.0</pre></strong> passed! 🙌</p><p><strong><pre style='display: inline;'>q6.0 - 1</pre> message:</strong> Correct answer format.</p>"
      ],
      "text/plain": [
       "q6.0 results: All test cases passed!\n",
       "q6.0 - 1 message: Correct answer format."
      ]
     },
     "execution_count": 32,
     "metadata": {},
     "output_type": "execute_result"
    }
   ],
   "source": [
    "grader.check(\"q6.0\")"
   ]
  },
  {
   "cell_type": "markdown",
   "metadata": {},
   "source": [
    "There are essential built-in functions that apply to data structures in Python. The operations in the table below are widely supported by most data structure types and form the foundation of data manipulation in Python.\n",
    "\n",
    "In the table, `s` is a data structure, such as a list, and `i` is an integer.\n",
    "\n",
    "| Operation      | Result                                                                      | \n",
    "| :------------- | :-------------------------------------------------------------------------- |\n",
    "| `s[i]`         | Index and retrieve the item at position `i` of `s`                          |\n",
    "| `len(s)`       | Return the length (number of items) in `s`                                  |\n",
    "| `min(s)`       | Return the smallest or lowest item in `s`                                   |\n",
    "| `max(s)`       | Return the largest or highest item in `s`                                   |"
   ]
  },
  {
   "cell_type": "markdown",
   "metadata": {
    "deletable": false,
    "editable": false
   },
   "source": [
    "<font color='red'>**Question 6.1.**</font> Write a Python expression that extracts the maximum element in `a` and the minimum element in `a` and then divides their sum by the length of `a`. Assign this expression to `q6_1`. (0.5 pts)"
   ]
  },
  {
   "cell_type": "code",
   "execution_count": 33,
   "metadata": {
    "tags": [
     "otter_assign_solution_cell"
    ]
   },
   "outputs": [
    {
     "data": {
      "text/plain": [
       "105.33333333333333"
      ]
     },
     "execution_count": 33,
     "metadata": {},
     "output_type": "execute_result"
    }
   ],
   "source": [
    "# ANSWER CELL\n",
    "a = [383, 165, 273, 112, 937, 11, 64, 112, 455]\n",
    "q6_1 = (min(a) + max(a)) / len(a) # SOLUTION\n",
    "q6_1"
   ]
  },
  {
   "cell_type": "code",
   "execution_count": 34,
   "metadata": {
    "deletable": false,
    "editable": false
   },
   "outputs": [
    {
     "data": {
      "text/html": [
       "<p><strong><pre style='display: inline;'>q6.1</pre></strong> passed! 🌟</p><p><strong><pre style='display: inline;'>q6.1 - 1</pre> message:</strong> Correct answer format.</p>"
      ],
      "text/plain": [
       "q6.1 results: All test cases passed!\n",
       "q6.1 - 1 message: Correct answer format."
      ]
     },
     "execution_count": 34,
     "metadata": {},
     "output_type": "execute_result"
    }
   ],
   "source": [
    "grader.check(\"q6.1\")"
   ]
  },
  {
   "cell_type": "markdown",
   "metadata": {},
   "source": [
    "Another essential data structure for scientific and numerical applications is the NumPy array, which is part of the NumPy module. NumPy is short for \"Numerical Python\". \n",
    "\n",
    "In order to use NumPy, we need to import it first. A conventional way to import it is to use `np` as a shortened name: `import numpy as np`.\n",
    "\n",
    "To define an array in Python, you could use the `np.array()` function. The items are put inside square brackets `np.array([...])` or a second set of parentheses `np.array((...))`, and are separated by commas `,`.\n",
    "\n",
    "**Example:**\n",
    "\n",
    "```python\n",
    ">>> w = np.array([1, 4, 3, 12])\n",
    "```\n",
    "\n",
    "Arrays can have multiple rows and columns. In NumPy, attributes are properties of NumPy arrays that provide information about the array's shape, size, dimension, and so on. There are many attributes, which you can read about in the documentation [here](https://numpy.org/doc/stable/reference/generated/numpy.ndarray.html). Some of the common attributes are:\n",
    "* [`array_name.shape`](https://numpy.org/doc/stable/reference/generated/numpy.ndarray.shape.html): returns the shape of `array_name`\n",
    "> returns `(n_rows, n_columns)`, where the first element is the number of rows in `array_name` and the second element is the number of columns in `array_name` \n",
    "* [`array_name.size`](https://numpy.org/doc/stable/reference/generated/numpy.ndarray.size.html#numpy.ndarray.size): returns the total number of elements in `array_name` \n",
    "> number of rows times number of columns\n",
    "* [`array_name.ndim`](https://numpy.org/doc/stable/reference/generated/numpy.ndarray.ndim.html#numpy.ndarray.ndim): returns the number of dimensions of `array_name`\n",
    "\n",
    "In addition to `np.array()`, there are a number of other functions for creating arrays. Very often we would like to define arrays that have a pattern. For instance, we may wish to create the array `days = [1, 2, 3, ..., 365]`. It would be very cumbersome to type all the values of `days` into Python. For generating arrays that have a pattern, there are several helpful functions in NumPy.\n",
    "\n",
    "For generating arrays that are in **order and evenly spaced**, it is useful to use the `np.arange()` function in NumPy:\n",
    "\n",
    "```python\n",
    "np.arange(start, stop, step)\n",
    "```\n",
    "\n",
    "where:\n",
    "\n",
    "* `start`: a number specifying at which value to start the array. This is an optional argument, and thus, if not specified, it will take the default value 0.\n",
    "* `stop`: a number specifying at which value to stop the array (excluded). This is a required argument.\n",
    "* `step`: a number specifying the increment in the values of the array (`step` $\\neq 0$). This is an optional argument, and thus, if not specified, it will take the default value 1. The `step` can be positive or negative and the value in index `i` will simply be `start + step*i`\n",
    "\n",
    "**Example:**\n",
    "\n",
    "```python\n",
    ">>> days = np.arange(1, 366)\n",
    "```\n",
    "\n",
    "For generating arrays that have **a certain number of evenly spaced points between a start and end value**, it is useful to use the `np.linspace()` function in NumPy:\n",
    "\n",
    "```python\n",
    "np.linspace(start, stop, num)\n",
    "```\n",
    "\n",
    "where:\n",
    "\n",
    "* `start`: a number specifying at which value to start the array. Here, this is a required argument.\n",
    "* `stop`: a number specifying at which value to stop the array. This is by default **included** in the array, unlike `np.arange()`. This is a required argument.\n",
    "* `num`: an integer number specifying how many values to generate between `start` and `stop`, including `start` and `stop`. This is an optional argument, and thus, if not specified, it will take the default value 50.\n",
    "\n",
    "**Example:**\n",
    "\n",
    "```python\n",
    ">>> days = np.linspace(1, 365, 365)\n",
    "```\n",
    "\n",
    "Similar to strings and lists, you can you can index a NumPy array."
   ]
  },
  {
   "cell_type": "markdown",
   "metadata": {
    "deletable": false,
    "editable": false
   },
   "source": [
    "<font color='red'>**Question 6.2.**</font> What will be displayed after running this Python code? Feel free to run it to check your answer, but try to think it through first. (1 pt)\n",
    "\n",
    "```python\n",
    "x1 = np.arange(10, 20, 1)\n",
    "x2 = np.linspace(0, 10, 3)\n",
    "print(x1[-1] + x2[1])\n",
    "```\n",
    "\n",
    "Assign your answer to the variable `q6_2` in the next cell. Do NOT put quotes around your answer. Your answer should be a numeric value."
   ]
  },
  {
   "cell_type": "code",
   "execution_count": 35,
   "metadata": {
    "tags": [
     "otter_assign_solution_cell"
    ]
   },
   "outputs": [
    {
     "data": {
      "text/plain": [
       "24"
      ]
     },
     "execution_count": 35,
     "metadata": {},
     "output_type": "execute_result"
    }
   ],
   "source": [
    "# ANSWER CELL\n",
    "q6_2 = 19 + 5 # SOLUTION\n",
    "q6_2"
   ]
  },
  {
   "cell_type": "code",
   "execution_count": 36,
   "metadata": {
    "deletable": false,
    "editable": false
   },
   "outputs": [
    {
     "data": {
      "text/html": [
       "<p><strong><pre style='display: inline;'>q6.2</pre></strong> passed! 🌟</p><p><strong><pre style='display: inline;'>q6.2 - 1</pre> message:</strong> Correct answer format.</p>"
      ],
      "text/plain": [
       "q6.2 results: All test cases passed!\n",
       "q6.2 - 1 message: Correct answer format."
      ]
     },
     "execution_count": 36,
     "metadata": {},
     "output_type": "execute_result"
    }
   ],
   "source": [
    "grader.check(\"q6.2\")"
   ]
  },
  {
   "cell_type": "markdown",
   "metadata": {},
   "source": [
    "The questions below are related to course policies on assignment submission, grading, Ed, etc. All information can be found in the syllabus on bCourses. \n",
    "\n",
    "Reading the syllabus will save you time!\n",
    "\n",
    "These questions are graded and you must answer them correctly to receive credit."
   ]
  },
  {
   "cell_type": "markdown",
   "metadata": {
    "deletable": false,
    "editable": false
   },
   "source": [
    "<font color='red'>**Question 7.0.**</font> You have a general question regarding a homework or lab assignment. Who do you contact? Assign ALL that apply to the variable `q7_0`. (0.25 pts)\n",
    "\n",
    "A. Email the instructor \\\n",
    "B. Post a question on Ed  \\\n",
    "C. Email your lab GSI  \\\n",
    "D. ce93@berkeley.edu \\\n",
    "E. Go to office hours\n",
    "\n",
    "Answer in the next cell. Add each selected choice as a string and separate each two answer choices by a comma. For example, if you want to select `\"A\"` and `\"B\"`, your answer should be `\"A\", \"B\"`.\\\n",
    "Assign your answer to the given variable.\n",
    "Remember to put quotes around each answer choice."
   ]
  },
  {
   "cell_type": "code",
   "execution_count": 37,
   "metadata": {
    "tags": [
     "otter_assign_solution_cell"
    ]
   },
   "outputs": [
    {
     "data": {
      "text/plain": [
       "('B', 'E')"
      ]
     },
     "execution_count": 37,
     "metadata": {},
     "output_type": "execute_result"
    }
   ],
   "source": [
    "# ANSWER CELL\n",
    "q7_0 = 'B', 'E' #SOLUTION\n",
    "q7_0"
   ]
  },
  {
   "cell_type": "code",
   "execution_count": 38,
   "metadata": {
    "deletable": false,
    "editable": false
   },
   "outputs": [
    {
     "data": {
      "text/html": [
       "<p><strong><pre style='display: inline;'>q7.0</pre></strong> passed! 🌈</p><p><strong><pre style='display: inline;'>q7.0 - 1</pre> message:</strong> Correct answer format.</p>"
      ],
      "text/plain": [
       "q7.0 results: All test cases passed!\n",
       "q7.0 - 1 message: Correct answer format."
      ]
     },
     "execution_count": 38,
     "metadata": {},
     "output_type": "execute_result"
    }
   ],
   "source": [
    "grader.check(\"q7.0\")"
   ]
  },
  {
   "cell_type": "markdown",
   "metadata": {
    "deletable": false,
    "editable": false
   },
   "source": [
    "<font color='red'>**Question 7.1.**</font> Homework assignments are due by Mondays, 11:59 PM whereas lab assignments are due by Fridays, 11:59 PM. Which of the following is true about late homework and lab submissions? Assign your answer to the variable `q7_1` as a string. (0.5 pts)\n",
    "\n",
    "A. No late submissions are allowed \\\n",
    "B. Assignments will be accepted for 24 hours after the deadline but you have to submit an extension request \\\n",
    "C. Assignments will be accepted for 24 hours after the deadline without the need to request an extension \\\n",
    "D. Late assignments can be requested by emailing the teaching assistant\n",
    "\n",
    "Answer in the next cell. Your answer should be a string, e.g., `\"A\"`, `\"B\"`, etc. \\\n",
    "Assign your answer to the given variable.\n",
    "Remember to put quotes around your answer choice."
   ]
  },
  {
   "cell_type": "code",
   "execution_count": 39,
   "metadata": {
    "tags": [
     "otter_assign_solution_cell"
    ]
   },
   "outputs": [
    {
     "data": {
      "text/plain": [
       "'C'"
      ]
     },
     "execution_count": 39,
     "metadata": {},
     "output_type": "execute_result"
    }
   ],
   "source": [
    "# ANSWER CELL\n",
    "q7_1 = 'C' #SOLUTION\n",
    "q7_1"
   ]
  },
  {
   "cell_type": "code",
   "execution_count": 40,
   "metadata": {
    "deletable": false,
    "editable": false
   },
   "outputs": [
    {
     "data": {
      "text/html": [
       "<p><strong><pre style='display: inline;'>q7.1</pre></strong> passed! 🚀</p><p><strong><pre style='display: inline;'>q7.1 - 1</pre> message:</strong> Correct! Please do not email us to request short extensions, as 24 hours are granted by default.</p>"
      ],
      "text/plain": [
       "q7.1 results: All test cases passed!\n",
       "q7.1 - 1 message: Correct! Please do not email us to request short extensions, as 24 hours are granted by default."
      ]
     },
     "execution_count": 40,
     "metadata": {},
     "output_type": "execute_result"
    }
   ],
   "source": [
    "grader.check(\"q7.1\")"
   ]
  },
  {
   "cell_type": "markdown",
   "metadata": {
    "deletable": false,
    "editable": false
   },
   "source": [
    "<font color='red'>**Question 7.2.**</font> If you need more time beyond the default 24 hour extension, what should you do? (0.5 pts)\n",
    "\n",
    "A. No further late submissions are allowed \\\n",
    "B. Email the teaching staff asking for an extension \\\n",
    "C. Submit the extension form on bCourses before the original due date \\\n",
    "D. Submit the extension form on bCourses anytime\n",
    "\n",
    "Answer in the next cell. Your answer should be a string, e.g., `\"A\"`, `\"B\"`, etc. Assign your answer to the variable `q7_2` as a string."
   ]
  },
  {
   "cell_type": "code",
   "execution_count": 41,
   "metadata": {
    "tags": [
     "otter_assign_solution_cell"
    ]
   },
   "outputs": [
    {
     "data": {
      "text/plain": [
       "'C'"
      ]
     },
     "execution_count": 41,
     "metadata": {},
     "output_type": "execute_result"
    }
   ],
   "source": [
    "# ANSWER CELL\n",
    "q7_2 = 'C' #SOLUTION\n",
    "q7_2"
   ]
  },
  {
   "cell_type": "code",
   "execution_count": 42,
   "metadata": {
    "deletable": false,
    "editable": false
   },
   "outputs": [
    {
     "data": {
      "text/html": [
       "<p><strong><pre style='display: inline;'>q7.2</pre></strong> passed! 🌈</p><p><strong><pre style='display: inline;'>q7.2 - 1</pre> message:</strong> Correct! Long assignment extension requests (> 24 hours) should be submitted before the original due date, and NOT within the 24-hour grace period.</p>"
      ],
      "text/plain": [
       "q7.2 results: All test cases passed!\n",
       "q7.2 - 1 message: Correct! Long assignment extension requests (> 24 hours) should be submitted before the original due date, and NOT within the 24-hour grace period."
      ]
     },
     "execution_count": 42,
     "metadata": {},
     "output_type": "execute_result"
    }
   ],
   "source": [
    "grader.check(\"q7.2\")"
   ]
  },
  {
   "cell_type": "markdown",
   "metadata": {
    "deletable": false,
    "editable": false
   },
   "source": [
    "<font color='red'>**Question 7.3.**</font> Which of the following is(are) true regarding academic misconduct? (0.5 pts)\n",
    "\n",
    "A. The penalty for assignment misconduct is $-$10 on that assignment for all involved, and which cannot be dropped \\\n",
    "B. A repeat offense on assignments will result in an F in the course \\\n",
    "C. Anyone involved in misconduct on any exam will receive an F in the course \\\n",
    "D. Any misconduct incident could be reported to the Center for Student Conduct \\\n",
    "E. If I need help, I can go to office hours, post on Ed, and benefit from the course support. I do not need to cheat! \\\n",
    "F. All of the above\n",
    "\n",
    "Answer in the next cell. Your answer should be a string, e.g., `\"A\"`, `\"B\"`, etc. Assign your answer to the variable `q7_3` as a string."
   ]
  },
  {
   "cell_type": "code",
   "execution_count": 43,
   "metadata": {
    "tags": [
     "otter_assign_solution_cell"
    ]
   },
   "outputs": [
    {
     "data": {
      "text/plain": [
       "'F'"
      ]
     },
     "execution_count": 43,
     "metadata": {},
     "output_type": "execute_result"
    }
   ],
   "source": [
    "# ANSWER CELL\n",
    "q7_3 = 'F' #SOLUTION\n",
    "q7_3"
   ]
  },
  {
   "cell_type": "code",
   "execution_count": 44,
   "metadata": {
    "deletable": false,
    "editable": false
   },
   "outputs": [
    {
     "data": {
      "text/html": [
       "<p><strong><pre style='display: inline;'>q7.3</pre></strong> passed! ✨</p><p><strong><pre style='display: inline;'>q7.3 - 1</pre> message:</strong> Correct! Deadlines can be stressful. If you feel that you need to engage in academic misconduct to meet a deadline, please reach out to us. We care that you learn the material and we are here to support you.</p>"
      ],
      "text/plain": [
       "q7.3 results: All test cases passed!\n",
       "q7.3 - 1 message: Correct! Deadlines can be stressful. If you feel that you need to engage in academic misconduct to meet a deadline, please reach out to us. We care that you learn the material and we are here to support you."
      ]
     },
     "execution_count": 44,
     "metadata": {},
     "output_type": "execute_result"
    }
   ],
   "source": [
    "grader.check(\"q7.3\")"
   ]
  },
  {
   "cell_type": "markdown",
   "metadata": {
    "deletable": false,
    "editable": false
   },
   "source": [
    "<font color='red'>**Question 7.4.**</font> Which of the following is(are) true regarding quizzes? (0.5 pts)\n",
    "\n",
    "A. Short quizzes are incorporated into some lectures and count toward the grade \\\n",
    "B. These quizzes are based on the previous homework assignment \\\n",
    "C. We will be informed about quizzes during the previous lecture in class. There will be no online announcements. \\\n",
    "D. There will be no makeups for the quizzes. So I must use the 2 drops for true emergencies only. No exceptions will be made to this policy.\\\n",
    "E. If I take a quiz and subsequently earn a higher grade on the test that covers the same material, the higher test grade will replace the quiz grade. \\\n",
    "F. Understanding and completing the homework due that week is essential because the quiz will be very similar to one of the homework questions \\\n",
    "G. All of the above\n",
    "\n",
    "Answer in the next cell. Your answer should be a string, e.g., `\"A\"`, `\"B\"`, etc. Assign your answer to the variable `q7_4` as a string."
   ]
  },
  {
   "cell_type": "code",
   "execution_count": 45,
   "metadata": {
    "tags": [
     "otter_assign_solution_cell"
    ]
   },
   "outputs": [
    {
     "data": {
      "text/plain": [
       "'G'"
      ]
     },
     "execution_count": 45,
     "metadata": {},
     "output_type": "execute_result"
    }
   ],
   "source": [
    "# ANSWER CELL\n",
    "q7_4 = 'G' #SOLUTION\n",
    "q7_4"
   ]
  },
  {
   "cell_type": "code",
   "execution_count": 46,
   "metadata": {
    "deletable": false,
    "editable": false
   },
   "outputs": [
    {
     "data": {
      "text/html": [
       "<p><strong><pre style='display: inline;'>q7.4</pre></strong> passed! 🎉</p><p><strong><pre style='display: inline;'>q7.4 - 1</pre> message:</strong> Correct! Please do not email us if you miss a lecture. You get 2 drops on the quizzes, which you can use when you miss a lecture. Use those 2 drops for true emergencies only.</p>"
      ],
      "text/plain": [
       "q7.4 results: All test cases passed!\n",
       "q7.4 - 1 message: Correct! Please do not email us if you miss a lecture. You get 2 drops on the quizzes, which you can use when you miss a lecture. Use those 2 drops for true emergencies only."
      ]
     },
     "execution_count": 46,
     "metadata": {},
     "output_type": "execute_result"
    }
   ],
   "source": [
    "grader.check(\"q7.4\")"
   ]
  },
  {
   "cell_type": "markdown",
   "metadata": {
    "deletable": false,
    "editable": false
   },
   "source": [
    "<font color='red'>**Question 7.5.**</font> Based on what criteria will homework assignments be graded? (0.5 pts)\n",
    "\n",
    "A. Correctness \\\n",
    "B. Completeness and correctness \\\n",
    "C. Completeness, self-assessment, and professionalism \\\n",
    "D. Accuracy\n",
    "\n",
    "Answer in the next cell. Your answer should be a string, e.g., `\"A\"`, `\"B\"`, etc. Assign your answer to the variable `q7_5` as a string."
   ]
  },
  {
   "cell_type": "code",
   "execution_count": 47,
   "metadata": {
    "tags": [
     "otter_assign_solution_cell"
    ]
   },
   "outputs": [
    {
     "data": {
      "text/plain": [
       "'C'"
      ]
     },
     "execution_count": 47,
     "metadata": {},
     "output_type": "execute_result"
    }
   ],
   "source": [
    "# ANSWER CELL\n",
    "q7_5 = 'C' #SOLUTION\n",
    "q7_5"
   ]
  },
  {
   "cell_type": "code",
   "execution_count": 48,
   "metadata": {
    "deletable": false,
    "editable": false
   },
   "outputs": [
    {
     "data": {
      "text/html": [
       "<p><strong><pre style='display: inline;'>q7.5</pre></strong> passed! 🌟</p><p><strong><pre style='display: inline;'>q7.5 - 1</pre> message:</strong> Correct! A guide will be provided for each homework assignment to assist you whenever you get stuck. Thus, assignments are not graded for correctness.</p>"
      ],
      "text/plain": [
       "q7.5 results: All test cases passed!\n",
       "q7.5 - 1 message: Correct! A guide will be provided for each homework assignment to assist you whenever you get stuck. Thus, assignments are not graded for correctness."
      ]
     },
     "execution_count": 48,
     "metadata": {},
     "output_type": "execute_result"
    }
   ],
   "source": [
    "grader.check(\"q7.5\")"
   ]
  },
  {
   "cell_type": "markdown",
   "metadata": {},
   "source": [
    "### You're done with this Lab!\n",
    "\n",
    "**Important submission information:** After completing the assignment, click on the Save icon from the Tool Bar &nbsp;<i class=\"fa fa-save\" style=\"font-size:16px;\"></i>&nbsp;. After saving your notebook, **run the cell with** `grader.check_all()` and confirm that you pass the same tests as in the notebook. Then, **run the final cell** `grader.export()` and click the link to download the zip file. Finally, go to Gradescope and submit the zip file to the corresponding assignment. \n",
    "\n",
    "**Once you have submitted, stay on the Gradescope page to confirm that you pass the same tests as in the notebook.**"
   ]
  },
  {
   "cell_type": "code",
   "execution_count": 49,
   "metadata": {
    "tags": []
   },
   "outputs": [
    {
     "name": "stdout",
     "output_type": "stream",
     "text": [
      "Congratulations on finishing your first lab!\n"
     ]
    },
    {
     "data": {
      "image/png": "[encoded data removed]",
      "text/plain": [
       "<Figure size 640x480 with 1 Axes>"
      ]
     },
     "metadata": {},
     "output_type": "display_data"
    }
   ],
   "source": [
    "%matplotlib inline\n",
    "img = mpimg.imread('resources/animal.jpg')\n",
    "imgplot = plt.imshow(img)\n",
    "imgplot.axes.get_xaxis().set_visible(False)\n",
    "imgplot.axes.get_yaxis().set_visible(False)\n",
    "print(\"Congratulations on finishing your first lab!\")\n",
    "plt.show()"
   ]
  },
  {
   "cell_type": "markdown",
   "metadata": {
    "deletable": false,
    "editable": false
   },
   "source": [
    "---\n",
    "\n",
    "To double-check your work, the cell below will rerun all of the autograder tests."
   ]
  },
  {
   "cell_type": "code",
   "execution_count": 50,
   "metadata": {
    "deletable": false,
    "editable": false
   },
   "outputs": [
    {
     "data": {
      "text/plain": [
       "q1.0 results: All test cases passed!\n",
       "q1.0 - 1 message: Correct answer format.\n",
       "\n",
       "q2.0 results: All test cases passed!\n",
       "q2.0 - 1 message: Correct answer format.\n",
       "\n",
       "q2.1 results: All test cases passed!\n",
       "\n",
       "q2.2 results: All test cases passed!\n",
       "\n",
       "q3.0 results: All test cases passed!\n",
       "q3.0 - 1 message: Correct answer format.\n",
       "\n",
       "q3.1 results: All test cases passed!\n",
       "q3.1 - 1 message: Correct answer format.\n",
       "\n",
       "q3.2 results: All test cases passed!\n",
       "q3.2 - 1 message: Correct answer format.\n",
       "\n",
       "q3.3 results: All test cases passed!\n",
       "q3.3 - 1 message: Correct answer format.\n",
       "\n",
       "q4.0 results: All test cases passed!\n",
       "q4.0 - 1 message: Correct answer format.\n",
       "\n",
       "q4.1 results: All test cases passed!\n",
       "q4.1 - 1 message: Correct answer format.\n",
       "\n",
       "q4.2 results: All test cases passed!\n",
       "q4.2 - 1 message: Correct answer format.\n",
       "\n",
       "q4.3 results: All test cases passed!\n",
       "q4.3 - 1 message: Correct answer format.\n",
       "\n",
       "q5.0 results: All test cases passed!\n",
       "q5.0 - 1 message: Correct answer format.\n",
       "\n",
       "q5.1 results: All test cases passed!\n",
       "q5.1 - 1 message: Correct answer format.\n",
       "\n",
       "q6.0 results: All test cases passed!\n",
       "q6.0 - 1 message: Correct answer format.\n",
       "\n",
       "q6.1 results: All test cases passed!\n",
       "q6.1 - 1 message: Correct answer format.\n",
       "\n",
       "q6.2 results: All test cases passed!\n",
       "q6.2 - 1 message: Correct answer format.\n",
       "\n",
       "q7.0 results: All test cases passed!\n",
       "q7.0 - 1 message: Correct answer format.\n",
       "\n",
       "q7.1 results: All test cases passed!\n",
       "q7.1 - 1 message: Correct! Please do not email us to request short extensions, as 24 hours are granted by default.\n",
       "\n",
       "q7.2 results: All test cases passed!\n",
       "q7.2 - 1 message: Correct! Long assignment extension requests (> 24 hours) should be submitted before the original due date, and NOT within the 24-hour grace period.\n",
       "\n",
       "q7.3 results: All test cases passed!\n",
       "q7.3 - 1 message: Correct! Deadlines can be stressful. If you feel that you need to engage in academic misconduct to meet a deadline, please reach out to us. We care that you learn the material and we are here to support you.\n",
       "\n",
       "q7.4 results: All test cases passed!\n",
       "q7.4 - 1 message: Correct! Please do not email us if you miss a lecture. You get 2 drops on the quizzes, which you can use when you miss a lecture. Use those 2 drops for true emergencies only.\n",
       "\n",
       "q7.5 results: All test cases passed!\n",
       "q7.5 - 1 message: Correct! A guide will be provided for each homework assignment to assist you whenever you get stuck. Thus, assignments are not graded for correctness."
      ]
     },
     "execution_count": 50,
     "metadata": {},
     "output_type": "execute_result"
    }
   ],
   "source": [
    "grader.check_all()"
   ]
  },
  {
   "cell_type": "markdown",
   "metadata": {
    "deletable": false,
    "editable": false
   },
   "source": [
    "## Submission\n",
    "\n",
    "Make sure you have run all cells in your notebook in order before running the cell below, so that all images/graphs appear in the output. The cell below will generate a zip file for you to submit. **Please save before exporting!**\n",
    "\n",
    "Make sure you submit the .zip file to Gradescope."
   ]
  },
  {
   "cell_type": "code",
   "execution_count": 51,
   "metadata": {
    "deletable": false,
    "editable": false
   },
   "outputs": [
    {
     "data": {
      "text/html": [
       "\n",
       "                    <p>\n",
       "                        Your submission has been exported. Click\n",
       "                        <a href=\"lab01_2024_08_27T21_19_33_916194.zip\" download=\"lab01_2024_08_27T21_19_33_916194.zip\" target=\"_blank\">here</a> to download\n",
       "                        the zip file.\n",
       "                    </p>\n",
       "                "
      ],
      "text/plain": [
       "<IPython.core.display.HTML object>"
      ]
     },
     "metadata": {},
     "output_type": "display_data"
    }
   ],
   "source": [
    "# Save your notebook first, then run this cell to export your submission.\n",
    "grader.export(pdf=False)"
   ]
  },
  {
   "cell_type": "markdown",
   "metadata": {},
   "source": [
    " "
   ]
  }
 ],
 "metadata": {
  "anaconda-cloud": {},
  "kernelspec": {
   "display_name": "Python 3 (ipykernel)",
   "language": "python",
   "name": "python3"
  },
  "language_info": {
   "codemirror_mode": {
    "name": "ipython",
    "version": 3
   },
   "file_extension": ".py",
   "mimetype": "text/x-python",
   "name": "python",
   "nbconvert_exporter": "python",
   "pygments_lexer": "ipython3",
   "version": "3.11.9"
  },
  "otter": {
   "OK_FORMAT": true,
   "assignment_name": "lab01",
   "tests": {
    "q1.0": {
     "name": "q1.0",
     "points": 0.25,
     "suites": [
      {
       "cases": [
        {
         "code": ">>> assert len(q1_0) == 1\n>>> assert isinstance(q1_0, str)\n",
         "failure_message": "Incorrect answer format. Make sure you only have the letter of your answer choice in quotes.",
         "hidden": false,
         "locked": false,
         "points": 0,
         "success_message": "Correct answer format."
        },
        {
         "code": ">>> assert get_hash(q1_0.upper()) == '0d61f8370cad1d412f80b84d143e1257'\n",
         "failure_message": "Incorrect answer.",
         "hidden": false,
         "locked": false,
         "points": 0.25
        }
       ],
       "scored": true,
       "setup": "",
       "teardown": "",
       "type": "doctest"
      }
     ]
    },
    "q2.0": {
     "name": "q2.0",
     "points": 0.25,
     "suites": [
      {
       "cases": [
        {
         "code": ">>> assert len(q2_0) == 1\n>>> assert isinstance(q2_0, str)\n",
         "failure_message": "Incorrect answer format. Make sure you only have the letter of your answer choice in quotes.",
         "hidden": false,
         "locked": false,
         "points": 0,
         "success_message": "Correct answer format."
        },
        {
         "code": ">>> assert get_hash(q2_0.upper()) == '0d61f8370cad1d412f80b84d143e1257'\n",
         "failure_message": "Incorrect answer.",
         "hidden": false,
         "locked": false,
         "points": 0.25
        }
       ],
       "scored": true,
       "setup": "",
       "teardown": "",
       "type": "doctest"
      }
     ]
    },
    "q2.1": {
     "name": "q2.1",
     "points": 0.5,
     "suites": [
      {
       "cases": [
        {
         "code": ">>> assert get_hash(round(q2_1, 10)) == '012bd0771172d790b0c88107c9743442'\n",
         "failure_message": "Incorrect answer.",
         "hidden": false,
         "locked": false
        }
       ],
       "scored": true,
       "setup": "",
       "teardown": "",
       "type": "doctest"
      }
     ]
    },
    "q2.2": {
     "name": "q2.2",
     "points": 0.5,
     "suites": [
      {
       "cases": [
        {
         "code": ">>> assert get_hash(round(x, 1)) == 'c81e728d9d4c2f636f067f89cc14862c'\n>>> assert get_hash(round(y, 1)) == 'e4da3b7fbbce2345d7772b0674a318d5'\n",
         "failure_message": "Incorrect x and/or y. Make sure x and y are defined based on the given values.",
         "hidden": false,
         "locked": false,
         "points": 0.1
        },
        {
         "code": ">>> assert get_hash(round(q2_2, 2)) == '027e97349ab774d836e6bde002c96d80'\n",
         "failure_message": "Incorrect answer for q2_2.",
         "hidden": false,
         "locked": false,
         "points": 0.4
        }
       ],
       "scored": true,
       "setup": "",
       "teardown": "",
       "type": "doctest"
      }
     ]
    },
    "q3.0": {
     "name": "q3.0",
     "points": 0.25,
     "suites": [
      {
       "cases": [
        {
         "code": ">>> assert len(q3_0) == 1\n>>> assert isinstance(q3_0, str)\n",
         "failure_message": "Incorrect answer format. Make sure you only have the letter of your answer choice in quotes.",
         "hidden": false,
         "locked": false,
         "points": 0,
         "success_message": "Correct answer format."
        },
        {
         "code": ">>> assert get_hash(q3_0.upper()) == '7fc56270e7a70fa81a5935b72eacbe29'\n",
         "failure_message": "Incorrect answer.",
         "hidden": false,
         "locked": false,
         "points": 0.25
        }
       ],
       "scored": true,
       "setup": "",
       "teardown": "",
       "type": "doctest"
      }
     ]
    },
    "q3.1": {
     "name": "q3.1",
     "points": 0.25,
     "suites": [
      {
       "cases": [
        {
         "code": ">>> assert len(q3_1) == 1\n>>> assert isinstance(q3_1, str)\n",
         "failure_message": "Incorrect answer format. Make sure you only have the letter of your answer choice in quotes.",
         "hidden": false,
         "locked": false,
         "points": 0,
         "success_message": "Correct answer format."
        },
        {
         "code": ">>> assert get_hash(q3_1.upper()) == '3a3ea00cfc35332cedf6e5e9a32e94da'\n",
         "failure_message": "Incorrect answer.",
         "hidden": false,
         "locked": false,
         "points": 0.25
        }
       ],
       "scored": true,
       "setup": "",
       "teardown": "",
       "type": "doctest"
      }
     ]
    },
    "q3.2": {
     "name": "q3.2",
     "points": 0.25,
     "suites": [
      {
       "cases": [
        {
         "code": ">>> assert len(q3_2) == 1\n>>> assert isinstance(q3_2, str)\n",
         "failure_message": "Incorrect answer format. Make sure you only have the letter of your answer choice in quotes.",
         "hidden": false,
         "locked": false,
         "points": 0,
         "success_message": "Correct answer format."
        },
        {
         "code": ">>> assert get_hash(q3_2.upper()) == '3a3ea00cfc35332cedf6e5e9a32e94da'\n",
         "failure_message": "Incorrect answer.",
         "hidden": false,
         "locked": false,
         "points": 0.25
        }
       ],
       "scored": true,
       "setup": "",
       "teardown": "",
       "type": "doctest"
      }
     ]
    },
    "q3.3": {
     "name": "q3.3",
     "points": 0.5,
     "suites": [
      {
       "cases": [
        {
         "code": ">>> assert isinstance(q3_3, tuple)\n>>> assert all((isinstance(option, str) for option in q3_3))\n>>> assert all((len(option) == 1 for option in q3_3))\n",
         "failure_message": "Incorrect answer format. Make sure you only have the letter of your answer choice in quotes and answers are separated by commas.",
         "hidden": false,
         "locked": false,
         "points": 0,
         "success_message": "Correct answer format."
        },
        {
         "code": ">>> assert not any(('7fc56270e7a70fa81a5935b72eacbe29' == get_hash(option.upper()) for option in q3_3))\n",
         "failure_message": "Incorrect answer.",
         "hidden": false,
         "locked": false,
         "points": 0.05
        },
        {
         "code": ">>> assert not any(('9d5ed678fe57bcca610140957afab571' == get_hash(option.upper()) for option in q3_3))\n",
         "failure_message": "Incorrect answer.",
         "hidden": false,
         "locked": false,
         "points": 0.05
        },
        {
         "code": ">>> assert not any(('dfcf28d0734569a6a693bc8194de62bf' == get_hash(option.upper()) for option in q3_3))\n",
         "failure_message": "Incorrect answer.",
         "hidden": false,
         "locked": false,
         "points": 0.05
        },
        {
         "code": ">>> assert any(('0d61f8370cad1d412f80b84d143e1257' == get_hash(option.upper()) for option in q3_3))\n",
         "failure_message": "Incorrect answer.",
         "hidden": false,
         "locked": false,
         "points": 0.1
        },
        {
         "code": ">>> assert any(('f623e75af30e62bbd73d6df5b50bb7b5' == get_hash(option.upper()) for option in q3_3))\n",
         "failure_message": "Incorrect answer.",
         "hidden": false,
         "locked": false,
         "points": 0.1
        },
        {
         "code": ">>> assert any(('3a3ea00cfc35332cedf6e5e9a32e94da' == get_hash(option.upper()) for option in q3_3))\n",
         "failure_message": "Incorrect answer.",
         "hidden": false,
         "locked": false,
         "points": 0.1
        },
        {
         "code": ">>> assert any(('800618943025315f869e4e1f09471012' == get_hash(option.upper()) for option in q3_3))\n",
         "failure_message": "Incorrect answer.",
         "hidden": false,
         "locked": false,
         "points": 0.05
        }
       ],
       "scored": true,
       "setup": "",
       "teardown": "",
       "type": "doctest"
      }
     ]
    },
    "q4.0": {
     "name": "q4.0",
     "points": 0.25,
     "suites": [
      {
       "cases": [
        {
         "code": ">>> assert len(q4_0) == 1\n>>> assert isinstance(q4_0, str)\n",
         "failure_message": "Incorrect answer format. Make sure you only have the letter of your answer choice in quotes.",
         "hidden": false,
         "locked": false,
         "points": 0,
         "success_message": "Correct answer format."
        },
        {
         "code": ">>> assert get_hash(q4_0.upper()) == '7fc56270e7a70fa81a5935b72eacbe29'\n",
         "failure_message": "Incorrect answer.",
         "hidden": false,
         "locked": false,
         "points": 0.25
        }
       ],
       "scored": true,
       "setup": "",
       "teardown": "",
       "type": "doctest"
      }
     ]
    },
    "q4.1": {
     "name": "q4.1",
     "points": 0.25,
     "suites": [
      {
       "cases": [
        {
         "code": ">>> assert len(q4_1) == 1\n>>> assert isinstance(q4_1, str)\n",
         "failure_message": "Incorrect answer format. Make sure you only have the letter of your answer choice in quotes.",
         "hidden": false,
         "locked": false,
         "points": 0,
         "success_message": "Correct answer format."
        },
        {
         "code": ">>> assert get_hash(q4_1.upper()) == '9d5ed678fe57bcca610140957afab571'\n",
         "failure_message": "Incorrect answer.",
         "hidden": false,
         "locked": false,
         "points": 0.25
        }
       ],
       "scored": true,
       "setup": "",
       "teardown": "",
       "type": "doctest"
      }
     ]
    },
    "q4.2": {
     "name": "q4.2",
     "points": 0.5,
     "suites": [
      {
       "cases": [
        {
         "code": ">>> assert isinstance(q4_2, int)\n",
         "failure_message": "Incorrect answer format. Your answer should be an integer.",
         "hidden": false,
         "locked": false,
         "points": 0,
         "success_message": "Correct answer format."
        },
        {
         "code": ">>> assert get_hash(int(q4_2)) == 'c81e728d9d4c2f636f067f89cc14862c'\n",
         "failure_message": "Incorrect answer.",
         "hidden": false,
         "locked": false,
         "points": 0.5
        }
       ],
       "scored": true,
       "setup": "",
       "teardown": "",
       "type": "doctest"
      }
     ]
    },
    "q4.3": {
     "name": "q4.3",
     "points": 0.5,
     "suites": [
      {
       "cases": [
        {
         "code": ">>> assert len(q4_3) == 1\n>>> assert isinstance(q4_3, str)\n",
         "failure_message": "Incorrect answer format. Make sure you only have the letter of your answer choice in quotes.",
         "hidden": false,
         "locked": false,
         "points": 0,
         "success_message": "Correct answer format."
        },
        {
         "code": ">>> assert get_hash(q4_3.upper()) == '7fc56270e7a70fa81a5935b72eacbe29'\n",
         "failure_message": "Incorrect answer.",
         "hidden": false,
         "locked": false,
         "points": 0.5
        }
       ],
       "scored": true,
       "setup": "",
       "teardown": "",
       "type": "doctest"
      }
     ]
    },
    "q5.0": {
     "name": "q5.0",
     "points": 0.5,
     "suites": [
      {
       "cases": [
        {
         "code": ">>> assert len(q5_0) == 1\n>>> assert isinstance(q5_0, str)\n",
         "failure_message": "Incorrect answer format. Make sure you only have the letter of your answer choice in quotes.",
         "hidden": false,
         "locked": false,
         "points": 0,
         "success_message": "Correct answer format."
        },
        {
         "code": ">>> assert get_hash(q5_0.upper()) == 'f623e75af30e62bbd73d6df5b50bb7b5'\n",
         "failure_message": "Incorrect answer.",
         "hidden": false,
         "locked": false,
         "points": 0.5
        }
       ],
       "scored": true,
       "setup": "",
       "teardown": "",
       "type": "doctest"
      }
     ]
    },
    "q5.1": {
     "name": "q5.1",
     "points": 0.5,
     "suites": [
      {
       "cases": [
        {
         "code": ">>> assert isinstance(q5_1, tuple)\n>>> assert all((isinstance(option, str) for option in q5_1))\n>>> assert all((len(option) == 1 for option in q5_1))\n",
         "failure_message": "Incorrect answer format. Make sure you only have the letter of your answer choice in quotes and answers are separated by commas.",
         "hidden": false,
         "locked": false,
         "points": 0,
         "success_message": "Correct answer format."
        },
        {
         "code": ">>> assert any(('7fc56270e7a70fa81a5935b72eacbe29' == get_hash(option.upper()) for option in q5_1))\n",
         "failure_message": "Incorrect answer.",
         "hidden": false,
         "locked": false,
         "points": 0.175
        },
        {
         "code": ">>> assert any(('f623e75af30e62bbd73d6df5b50bb7b5' == get_hash(option.upper()) for option in q5_1))\n",
         "failure_message": "Incorrect answer.",
         "hidden": false,
         "locked": false,
         "points": 0.175
        },
        {
         "code": ">>> assert not any(('9d5ed678fe57bcca610140957afab571' == get_hash(option.upper()) for option in q5_1))\n",
         "failure_message": "Incorrect answer.",
         "hidden": false,
         "locked": false,
         "points": 0.05
        },
        {
         "code": ">>> assert not any(('0d61f8370cad1d412f80b84d143e1257' == get_hash(option.upper()) for option in q5_1))\n",
         "failure_message": "Incorrect answer.",
         "hidden": false,
         "locked": false,
         "points": 0.05
        },
        {
         "code": ">>> assert not any(('3a3ea00cfc35332cedf6e5e9a32e94da' == get_hash(option.upper()) for option in q5_1))\n",
         "failure_message": "Incorrect answer.",
         "hidden": false,
         "locked": false,
         "points": 0.05
        }
       ],
       "scored": true,
       "setup": "",
       "teardown": "",
       "type": "doctest"
      }
     ]
    },
    "q6.0": {
     "name": "q6.0",
     "points": 0.5,
     "suites": [
      {
       "cases": [
        {
         "code": ">>> assert isinstance(q6_0, int)\n",
         "failure_message": "Incorrect answer format. Your answer should be an integer.",
         "hidden": false,
         "locked": false,
         "points": 0,
         "success_message": "Correct answer format."
        },
        {
         "code": ">>> assert get_hash(int(q6_0)) == '9766527f2b5d3e95d4a733fcfb77bd7e'\n",
         "failure_message": "Incorrect answer. Indexing in Python starts at 0.",
         "hidden": false,
         "locked": false,
         "points": 0.5
        }
       ],
       "scored": true,
       "setup": "",
       "teardown": "",
       "type": "doctest"
      }
     ]
    },
    "q6.1": {
     "name": "q6.1",
     "points": 0.5,
     "suites": [
      {
       "cases": [
        {
         "code": ">>> assert isinstance(q6_1, float)\n",
         "failure_message": "Incorrect answer format. Your answer should be a float.",
         "hidden": false,
         "locked": false,
         "points": 0,
         "success_message": "Correct answer format."
        },
        {
         "code": ">>> assert get_hash(round(q6_1, 10)) == '6d025b8f42889608be47f9567281fdd8'\n",
         "failure_message": "Incorrect answer. The entire sum should be divided by the length.",
         "hidden": false,
         "locked": false,
         "points": 0.5
        }
       ],
       "scored": true,
       "setup": "",
       "teardown": "",
       "type": "doctest"
      }
     ]
    },
    "q6.2": {
     "name": "q6.2",
     "points": 1,
     "suites": [
      {
       "cases": [
        {
         "code": ">>> assert isinstance(q6_2, int)\n",
         "failure_message": "Incorrect answer format. Your answer should be an integer.",
         "hidden": false,
         "locked": false,
         "points": 0,
         "success_message": "Correct answer format."
        },
        {
         "code": ">>> assert get_hash(int(q6_2)) == '1ff1de774005f8da13f42943881c655f'\n",
         "failure_message": "Incorrect answer. Indexing in Python starts at 0.",
         "hidden": false,
         "locked": false,
         "points": 1
        }
       ],
       "scored": true,
       "setup": "",
       "teardown": "",
       "type": "doctest"
      }
     ]
    },
    "q7.0": {
     "name": "q7.0",
     "points": 0.25,
     "suites": [
      {
       "cases": [
        {
         "code": ">>> assert isinstance(q7_0, tuple)\n>>> assert all((isinstance(option, str) for option in q7_0))\n>>> assert all((len(option) == 1 for option in q7_0))\n",
         "failure_message": "Incorrect answer format. Make sure you only have the letter of your answer choice in quotes and answers are separated by commas.",
         "hidden": false,
         "locked": false,
         "points": 0,
         "success_message": "Correct answer format."
        },
        {
         "code": ">>> assert any(('9d5ed678fe57bcca610140957afab571' == get_hash(option.upper()) for option in q7_0))\n",
         "failure_message": "Correct! For most questions, Ed is the right place to ask them. If you send a general question through email, we will direct you to post it on Ed.",
         "hidden": false,
         "locked": false,
         "points": 0.1
        },
        {
         "code": ">>> assert any(('3a3ea00cfc35332cedf6e5e9a32e94da' == get_hash(option.upper()) for option in q7_0))\n",
         "failure_message": "Correct! There are several office hours throughout the week. Check bCourses for the schedule.",
         "hidden": false,
         "locked": false,
         "points": 0.1
        },
        {
         "code": ">>> assert not any(('7fc56270e7a70fa81a5935b72eacbe29' == get_hash(option.upper()) for option in q7_0))\n",
         "failure_message": "Incorrect answer. Emailing the instructor will generally lead to slower response.",
         "hidden": false,
         "locked": false,
         "points": 0.02
        },
        {
         "code": ">>> assert not any(('0d61f8370cad1d412f80b84d143e1257' == get_hash(option.upper()) for option in q7_0))\n",
         "failure_message": "Incorrect answer. Emailing the GSIs will generally lead to slower response.",
         "hidden": false,
         "locked": false,
         "points": 0.01
        },
        {
         "code": ">>> assert not any(('f623e75af30e62bbd73d6df5b50bb7b5' == get_hash(option.upper()) for option in q7_0))\n",
         "failure_message": "Incorrect answer. ce93@berkeley.edu should only be used for personal inquiries and not for general questions.",
         "hidden": false,
         "locked": false,
         "points": 0.02
        }
       ],
       "scored": true,
       "setup": "",
       "teardown": "",
       "type": "doctest"
      }
     ]
    },
    "q7.1": {
     "name": "q7.1",
     "points": 0.5,
     "suites": [
      {
       "cases": [
        {
         "code": ">>> assert get_hash(q7_1.upper()) == '0d61f8370cad1d412f80b84d143e1257'\n",
         "hidden": false,
         "locked": false,
         "success_message": "Correct! Please do not email us to request short extensions, as 24 hours are granted by default."
        }
       ],
       "scored": true,
       "setup": "",
       "teardown": "",
       "type": "doctest"
      }
     ]
    },
    "q7.2": {
     "name": "q7.2",
     "points": 0.5,
     "suites": [
      {
       "cases": [
        {
         "code": ">>> assert get_hash(q7_2.upper()) == '0d61f8370cad1d412f80b84d143e1257'\n",
         "hidden": false,
         "locked": false,
         "success_message": "Correct! Long assignment extension requests (> 24 hours) should be submitted before the original due date, and NOT within the 24-hour grace period."
        }
       ],
       "scored": true,
       "setup": "",
       "teardown": "",
       "type": "doctest"
      }
     ]
    },
    "q7.3": {
     "name": "q7.3",
     "points": 0.5,
     "suites": [
      {
       "cases": [
        {
         "code": ">>> assert get_hash(q7_3.upper()) == '800618943025315f869e4e1f09471012'\n",
         "hidden": false,
         "locked": false,
         "success_message": "Correct! Deadlines can be stressful. If you feel that you need to engage in academic misconduct to meet a deadline, please reach out to us. We care that you learn the material and we are here to support you."
        }
       ],
       "scored": true,
       "setup": "",
       "teardown": "",
       "type": "doctest"
      }
     ]
    },
    "q7.4": {
     "name": "q7.4",
     "points": 0.5,
     "suites": [
      {
       "cases": [
        {
         "code": ">>> assert get_hash(q7_4.upper()) == 'dfcf28d0734569a6a693bc8194de62bf'\n",
         "hidden": false,
         "locked": false,
         "success_message": "Correct! Please do not email us if you miss a lecture. You get 2 drops on the quizzes, which you can use when you miss a lecture. Use those 2 drops for true emergencies only."
        }
       ],
       "scored": true,
       "setup": "",
       "teardown": "",
       "type": "doctest"
      }
     ]
    },
    "q7.5": {
     "name": "q7.5",
     "points": 0.5,
     "suites": [
      {
       "cases": [
        {
         "code": ">>> assert get_hash(q7_5.upper()) == '0d61f8370cad1d412f80b84d143e1257'\n",
         "hidden": false,
         "locked": false,
         "success_message": "Correct! A guide will be provided for each homework assignment to assist you whenever you get stuck. Thus, assignments are not graded for correctness."
        }
       ],
       "scored": true,
       "setup": "",
       "teardown": "",
       "type": "doctest"
      }
     ]
    }
   }
  }
 },
 "nbformat": 4,
 "nbformat_minor": 4
}
